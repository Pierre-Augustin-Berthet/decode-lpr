{
 "cells": [
  {
   "cell_type": "markdown",
   "metadata": {},
   "source": [
    "This Jupyter Notebook studies the impact of the injection of various biases to the Decode function in LPR-like post-quantum primitives. The Decode function has a compression parameter d. \n",
    "\n",
    "\n",
    "This notebook investigates the minimum number of biases e such that a complete recovery of the secret output of the Decode function is possible from the impact of the biases on the Hamming Weight of the output of the Decode function. The Hamming Weight is supposedly recovered by a Side Channel Oracle."
   ]
  },
  {
   "cell_type": "markdown",
   "metadata": {},
   "source": [
    "WARNING: The minimal number of biases required for a full message recovery is computed in this notebook by creating dataframes using the pandas library from Python and then performing an exhaustive search of the solution. We do not recommend testing values of d above 7 as it can lead to memory issues. This will be addressed in a future version."
   ]
  },
  {
   "cell_type": "code",
   "execution_count": 2,
   "metadata": {},
   "outputs": [],
   "source": [
    "import pandas as pd\n",
    "import itertools as iter\n",
    "import matplotlib.pyplot as plt\n",
    "import io\n",
    "import contextlib\n",
    "\n",
    "#Computes the Hamming Weight of an input a\n",
    "def hw(a):\n",
    "    return bin(a).count('1')\n",
    "\n",
    "#Creates a table of the impact of bias +modulus*k/2^d for every integer k<2^d, with input d\n",
    "def create_tab(d):\n",
    "    siz = pow(2,d)\n",
    "    return [[hw((j+i+1)%siz)-hw(i) for j in range(siz-1)]for i in range(siz)]\n",
    "\n",
    "#Creates a panda dataframe of the impact of bias +modulus*k/2^d for every integer k<2^d, with input d\n",
    "def create_tab_pd(d):\n",
    "    dat = create_tab(d)\n",
    "    return pd.DataFrame(dat)\n",
    "\n",
    "#Creates a list of every possible combination of e elements in a list of incremental values from 0 to siz\n",
    "def list_combi(siz,e):\n",
    "    finlis=[]\n",
    "    elem=list(range(0,siz))\n",
    "    combi=iter.combinations(elem,e)\n",
    "    for c in combi:\n",
    "        lis=[]\n",
    "        for sc in c:\n",
    "            lis.append(sc)\n",
    "        finlis.append(lis)    \n",
    "    return finlis\n",
    "\n",
    "#Outputs a list of all combination of e elements such as we can recover the entire output of Decode\n",
    "def no_dup_list(df,e):\n",
    "    finlis=[]\n",
    "    com = list_combi(df.shape[1],e)\n",
    "    for c in com:\n",
    "        if df.iloc[:, lambda df: c].duplicated().any() == False:\n",
    "            finlis.append(c)\n",
    "    return finlis\n",
    "\n",
    "#Outputs a combination of e elements such as we can recover the entire output of Decode\n",
    "def no_dup_list_one(df,e):\n",
    "    finlis=[]\n",
    "    com = list_combi(df.shape[1],e)\n",
    "    for c in com:\n",
    "        if df.iloc[:, lambda df: c].duplicated().any() == False:\n",
    "            finlis.append(c)\n",
    "            return finlis\n",
    "    return []\n",
    "\n",
    "#Performs the attack for parameter d and e biases. Outputs an empty list if no solution is found\n",
    "def attack_one(d,e):\n",
    "    df = create_tab_pd(d)\n",
    "    lis = no_dup_list_one(df,e)\n",
    "    if not lis:\n",
    "        print(\"There is no complete recovery for d = %d and only e = %d attempts\"%(d,e))\n",
    "        return []\n",
    "    else:\n",
    "        print(\"An example of complete recovery for d=%d in %d attempts is:\"%(d,e))\n",
    "        print(df.iloc[:,lambda df:lis[0]])\n",
    "        return [d,e]\n",
    "    \n",
    "#Performs the attack for paramater d and e biases. Outputs an empty list if no solution is found, and the complete list \n",
    "def attack_all(d,e):\n",
    "    df = create_tab_pd(d)\n",
    "    lis = no_dup_list(df,e)\n",
    "    if not lis:\n",
    "        print(\"There is no complete recovery for d = %d and only e = %d attempts\"%(d,e))\n",
    "        return []\n",
    "    else:\n",
    "        print(\"An example of complete recovery for d = %d in e = %d attempts is:\"%(d,e))\n",
    "        print(df.iloc[:,lambda df:lis[0]])\n",
    "        print(\"The full list of possible choices of e = %d ciphertexts for d = %d has length :\"%(e,d))\n",
    "        print(len(lis))\n",
    "        #WARNING: The elements of lis are INDEXES of the columns of the dataframe. To compute the correct bias, the formula is +modulus*(index+1)/2^d\n",
    "        return lis\n",
    "\n",
    "#Exports a graph of the minimal number of biases required for every parameter d from 2 to the input maxd\n",
    "def heuristic_checking(maxd,verbose=0):\n",
    "    pointsX=[]\n",
    "    pointsY=[]\n",
    "    if not verbose:\n",
    "        buffer = io.StringIO()\n",
    "    e=1\n",
    "    for d in range(1,maxd+1):\n",
    "        lis = []\n",
    "        while not lis:\n",
    "            if not verbose:\n",
    "                with contextlib.redirect_stdout(buffer):\n",
    "                    lis = attack_one(d,e)\n",
    "            else:\n",
    "                lis = attack_one(d,e)\n",
    "            if not lis : \n",
    "                e+=1\n",
    "        pointsX.append(lis[0])\n",
    "        pointsY.append(lis[1])    \n",
    "    plt.plot(pointsX,pointsY,label='This work',marker='s',ls='-',c='b')\n",
    "    plt.plot(pointsX,pointsX,label='Ravi et al.',marker='^',ls='-',c='r')\n",
    "    plt.ylabel('Min. number of biases')\n",
    "    plt.xlabel('Parameter d')\n",
    "    plt.legend(loc='upper left')\n",
    "    plt.savefig('heuristic_checking.png',bbox_inches='tight')"
   ]
  },
  {
   "cell_type": "markdown",
   "metadata": {},
   "source": [
    "Test of the minimal number of biases required to recover the complete output of Decode for parameter d = 2 (Frodo-640)"
   ]
  },
  {
   "cell_type": "code",
   "execution_count": 3,
   "metadata": {},
   "outputs": [
    {
     "name": "stdout",
     "output_type": "stream",
     "text": [
      "There is no complete recovery for d = 2 and only e = 1 attempts\n",
      "An example of complete recovery for d=2 in 2 attempts is:\n",
      "   0  1\n",
      "0  1  1\n",
      "1  0  1\n",
      "2  1 -1\n",
      "3 -2 -1\n"
     ]
    }
   ],
   "source": [
    "d=2\n",
    "lis = []\n",
    "e=1\n",
    "while (not lis) & (e<=d) :\n",
    "    lis=attack_one(d,e)\n",
    "    e+=1"
   ]
  },
  {
   "cell_type": "markdown",
   "metadata": {},
   "source": [
    "Complete list of possible optimal choices of biases for d = 2 (Frodo-640). WARNING: These combinations are indexes of dataframes, add 1 to index = k in the bias formula"
   ]
  },
  {
   "cell_type": "code",
   "execution_count": 4,
   "metadata": {},
   "outputs": [
    {
     "name": "stdout",
     "output_type": "stream",
     "text": [
      "There is no complete recovery for d = 2 and only e = 1 attempts\n",
      "An example of complete recovery for d = 2 in e = 2 attempts is:\n",
      "   0  1\n",
      "0  1  1\n",
      "1  0  1\n",
      "2  1 -1\n",
      "3 -2 -1\n",
      "The full list of possible choices of e = 2 ciphertexts for d = 2 has length :\n",
      "3\n",
      "[[0, 1], [0, 2], [1, 2]]\n"
     ]
    }
   ],
   "source": [
    "d=2\n",
    "lis = []\n",
    "e=1\n",
    "while (not lis) & (e<=d) :\n",
    "    lis=attack_all(d,e)\n",
    "    e+=1\n",
    "print(lis)"
   ]
  },
  {
   "cell_type": "markdown",
   "metadata": {},
   "source": [
    "Test of the minimal number of biases required to recover the complete output of Decode for parameter d = 3 (Frodo-976)"
   ]
  },
  {
   "cell_type": "code",
   "execution_count": 5,
   "metadata": {},
   "outputs": [
    {
     "name": "stdout",
     "output_type": "stream",
     "text": [
      "There is no complete recovery for d = 3 and only e = 1 attempts\n",
      "An example of complete recovery for d=3 in 2 attempts is:\n",
      "   1  4\n",
      "0  1  2\n",
      "1  1  1\n",
      "2  0  2\n",
      "3  0 -2\n",
      "4  1  0\n",
      "5  1 -1\n",
      "6 -2  0\n",
      "7 -2 -2\n"
     ]
    }
   ],
   "source": [
    "d=3\n",
    "lis = []\n",
    "e=1\n",
    "while (not lis) & (e<=d) :\n",
    "    lis=attack_one(d,e)\n",
    "    e+=1"
   ]
  },
  {
   "cell_type": "markdown",
   "metadata": {},
   "source": [
    "Complete list of possible optimal choices of biases for d = 3 (Frodo-976). WARNING: These combinations are indexes of dataframes, add 1 to index = k in the bias formula"
   ]
  },
  {
   "cell_type": "code",
   "execution_count": 6,
   "metadata": {},
   "outputs": [
    {
     "name": "stdout",
     "output_type": "stream",
     "text": [
      "There is no complete recovery for d = 3 and only e = 1 attempts\n",
      "An example of complete recovery for d = 3 in e = 2 attempts is:\n",
      "   1  4\n",
      "0  1  2\n",
      "1  1  1\n",
      "2  0  2\n",
      "3  0 -2\n",
      "4  1  0\n",
      "5  1 -1\n",
      "6 -2  0\n",
      "7 -2 -2\n",
      "The full list of possible choices of e = 2 ciphertexts for d = 3 has length :\n",
      "3\n",
      "[[1, 4], [2, 4], [2, 5]]\n"
     ]
    }
   ],
   "source": [
    "d=3\n",
    "lis = []\n",
    "e=1\n",
    "while (not lis) & (e<=d) :\n",
    "    lis=attack_all(d,e)\n",
    "    e+=1\n",
    "print(lis)"
   ]
  },
  {
   "cell_type": "markdown",
   "metadata": {},
   "source": [
    "Test of the minimal number of biases required to recover the complete output of Decode for parameter d = 4 (Frodo-1344)"
   ]
  },
  {
   "cell_type": "code",
   "execution_count": 7,
   "metadata": {},
   "outputs": [
    {
     "name": "stdout",
     "output_type": "stream",
     "text": [
      "There is no complete recovery for d = 4 and only e = 1 attempts\n",
      "There is no complete recovery for d = 4 and only e = 2 attempts\n",
      "An example of complete recovery for d=4 in 3 attempts is:\n",
      "    0  3  9\n",
      "0   1  1  2\n",
      "1   0  1  2\n",
      "2   1  1  1\n",
      "3  -1  1  1\n",
      "4   1  0  2\n",
      "5   0  0  2\n",
      "6   1  0 -2\n",
      "7  -2  0 -2\n",
      "8   1  1  0\n",
      "9   0  1  0\n",
      "10  1  1 -1\n",
      "11 -1  1 -1\n",
      "12  1 -2  0\n",
      "13  0 -2  0\n",
      "14  1 -2 -2\n",
      "15 -4 -2 -2\n"
     ]
    }
   ],
   "source": [
    "d=4\n",
    "lis = []\n",
    "e=1\n",
    "while (not lis) & (e<=d) :\n",
    "    lis=attack_one(d,e)\n",
    "    e+=1"
   ]
  },
  {
   "cell_type": "markdown",
   "metadata": {},
   "source": [
    "Complete list of possible optimal choices of biases for d = 4 (Frodo-1344). WARNING: These combinations are indexes of dataframes, add 1 to index = k in the bias formula"
   ]
  },
  {
   "cell_type": "code",
   "execution_count": 8,
   "metadata": {},
   "outputs": [
    {
     "name": "stdout",
     "output_type": "stream",
     "text": [
      "There is no complete recovery for d = 4 and only e = 1 attempts\n",
      "There is no complete recovery for d = 4 and only e = 2 attempts\n",
      "An example of complete recovery for d = 4 in e = 3 attempts is:\n",
      "    0  3  9\n",
      "0   1  1  2\n",
      "1   0  1  2\n",
      "2   1  1  1\n",
      "3  -1  1  1\n",
      "4   1  0  2\n",
      "5   0  0  2\n",
      "6   1  0 -2\n",
      "7  -2  0 -2\n",
      "8   1  1  0\n",
      "9   0  1  0\n",
      "10  1  1 -1\n",
      "11 -1  1 -1\n",
      "12  1 -2  0\n",
      "13  0 -2  0\n",
      "14  1 -2 -2\n",
      "15 -4 -2 -2\n",
      "The full list of possible choices of e = 3 ciphertexts for d = 4 has length :\n",
      "96\n",
      "[[0, 3, 9], [0, 3, 10], [0, 4, 9], [0, 4, 10], [0, 5, 9], [0, 5, 10], [0, 5, 11], [0, 5, 12], [0, 6, 10], [0, 6, 11], [0, 6, 12], [1, 4, 8], [1, 4, 10], [1, 4, 11], [1, 5, 8], [1, 5, 12], [1, 6, 12], [1, 8, 11], [1, 8, 12], [2, 3, 8], [2, 3, 9], [2, 4, 8], [2, 4, 9], [2, 4, 11], [2, 5, 8], [2, 5, 9], [2, 5, 10], [2, 5, 11], [2, 5, 12], [2, 6, 8], [2, 6, 9], [2, 6, 12], [2, 6, 13], [2, 7, 12], [2, 8, 11], [2, 8, 12], [2, 8, 13], [2, 8, 14], [2, 9, 11], [2, 9, 12], [2, 9, 13], [2, 9, 14], [3, 4, 9], [3, 4, 10], [3, 5, 8], [3, 5, 12], [3, 6, 8], [3, 6, 9], [3, 6, 12], [3, 6, 13], [3, 8, 9], [3, 8, 14], [3, 9, 10], [3, 9, 12], [3, 9, 14], [3, 10, 12], [3, 10, 13], [4, 5, 8], [4, 5, 9], [4, 5, 10], [4, 5, 11], [4, 6, 9], [4, 7, 10], [4, 8, 9], [4, 8, 14], [4, 9, 10], [4, 9, 12], [4, 9, 14], [4, 10, 11], [4, 10, 13], [4, 10, 14], [4, 11, 14], [5, 6, 9], [5, 6, 10], [5, 6, 11], [5, 8, 9], [5, 8, 10], [5, 8, 11], [5, 8, 12], [5, 9, 10], [5, 9, 12], [5, 9, 14], [5, 10, 11], [5, 10, 12], [5, 10, 14], [5, 11, 12], [5, 11, 14], [6, 8, 11], [6, 8, 12], [6, 9, 10], [6, 9, 11], [6, 9, 12], [6, 9, 13], [6, 10, 12], [6, 10, 13], [6, 11, 12]]\n"
     ]
    }
   ],
   "source": [
    "d=4\n",
    "lis = []\n",
    "e=1\n",
    "while (not lis) & (e<=d) :\n",
    "    lis=attack_all(d,e)\n",
    "    e+=1\n",
    "print(lis)"
   ]
  },
  {
   "cell_type": "markdown",
   "metadata": {},
   "source": [
    "Exhusative research of the minimal number of biases for the parameter d from 2 to 7. WARNING: avoid values higher than 7 due to memory issues"
   ]
  },
  {
   "cell_type": "code",
   "execution_count": 10,
   "metadata": {},
   "outputs": [
    {
     "data": {
      "image/png": "[encoded data removed]",
      "text/plain": [
       "<Figure size 640x480 with 1 Axes>"
      ]
     },
     "metadata": {},
     "output_type": "display_data"
    }
   ],
   "source": [
    "heuristic_checking(7)"
   ]
  },
  {
   "cell_type": "code",
   "execution_count": null,
   "metadata": {},
   "outputs": [],
   "source": []
  }
 ],
 "metadata": {
  "kernelspec": {
   "display_name": "Python 3",
   "language": "python",
   "name": "python3"
  },
  "language_info": {
   "codemirror_mode": {
    "name": "ipython",
    "version": 3
   },
   "file_extension": ".py",
   "mimetype": "text/x-python",
   "name": "python",
   "nbconvert_exporter": "python",
   "pygments_lexer": "ipython3",
   "version": "3.11.5"
  }
 },
 "nbformat": 4,
 "nbformat_minor": 2
}
